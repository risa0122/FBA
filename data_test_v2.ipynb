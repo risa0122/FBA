{
  "nbformat": 4,
  "nbformat_minor": 0,
  "metadata": {
    "colab": {
      "name": "data_test_v2.ipynb",
      "provenance": [],
      "collapsed_sections": [],
      "toc_visible": true,
      "include_colab_link": true
    },
    "kernelspec": {
      "name": "python3",
      "display_name": "Python 3"
    }
  },
  "cells": [
    {
      "cell_type": "markdown",
      "metadata": {
        "id": "view-in-github",
        "colab_type": "text"
      },
      "source": [
        "<a href=\"https://colab.research.google.com/github/risa0122/FBA/blob/main/data_test_v2.ipynb\" target=\"_parent\"><img src=\"https://colab.research.google.com/assets/colab-badge.svg\" alt=\"Open In Colab\"/></a>"
      ]
    },
    {
      "cell_type": "markdown",
      "metadata": {
        "id": "NiSGXeft_Nof"
      },
      "source": [
        "#Data Processing"
      ]
    },
    {
      "cell_type": "code",
      "metadata": {
        "id": "7v5Zx4sUY3kA"
      },
      "source": [
        "import pandas as pd\n",
        "\n",
        "data = pd.read_csv('data_asset_choosed.csv')\n",
        "data.head()\n",
        "data.shape\n",
        "data = data.bfill()\n"
      ],
      "execution_count": null,
      "outputs": []
    },
    {
      "cell_type": "code",
      "metadata": {
        "id": "z6IMYVkebidb",
        "colab": {
          "base_uri": "https://localhost:8080/",
          "height": 197
        },
        "outputId": "06ce08a2-bc28-41f4-ae34-a5507e5fbb56"
      },
      "source": [
        "data.head()"
      ],
      "execution_count": null,
      "outputs": [
        {
          "output_type": "execute_result",
          "data": {
            "text/html": [
              "<div>\n",
              "<style scoped>\n",
              "    .dataframe tbody tr th:only-of-type {\n",
              "        vertical-align: middle;\n",
              "    }\n",
              "\n",
              "    .dataframe tbody tr th {\n",
              "        vertical-align: top;\n",
              "    }\n",
              "\n",
              "    .dataframe thead th {\n",
              "        text-align: right;\n",
              "    }\n",
              "</style>\n",
              "<table border=\"1\" class=\"dataframe\">\n",
              "  <thead>\n",
              "    <tr style=\"text-align: right;\">\n",
              "      <th></th>\n",
              "      <th>Unnamed: 0</th>\n",
              "      <th>NII@NI225</th>\n",
              "      <th>IKS200</th>\n",
              "      <th>IKQ150</th>\n",
              "      <th>A132030</th>\n",
              "      <th>SPI@SPX</th>\n",
              "    </tr>\n",
              "  </thead>\n",
              "  <tbody>\n",
              "    <tr>\n",
              "      <th>0</th>\n",
              "      <td>2010-10-01</td>\n",
              "      <td>NIKKEI 225 INDEX</td>\n",
              "      <td>코스피 200</td>\n",
              "      <td>코스닥 150</td>\n",
              "      <td>KODEX 골드선물(H)</td>\n",
              "      <td>S&amp;P 500</td>\n",
              "    </tr>\n",
              "    <tr>\n",
              "      <th>1</th>\n",
              "      <td>2010-10-01</td>\n",
              "      <td>9404</td>\n",
              "      <td>243</td>\n",
              "      <td>968</td>\n",
              "      <td>9995</td>\n",
              "      <td>1146</td>\n",
              "    </tr>\n",
              "    <tr>\n",
              "      <th>2</th>\n",
              "      <td>2010-10-04</td>\n",
              "      <td>9381</td>\n",
              "      <td>244</td>\n",
              "      <td>964</td>\n",
              "      <td>10065</td>\n",
              "      <td>1137</td>\n",
              "    </tr>\n",
              "    <tr>\n",
              "      <th>3</th>\n",
              "      <td>2010-10-05</td>\n",
              "      <td>9519</td>\n",
              "      <td>244</td>\n",
              "      <td>964</td>\n",
              "      <td>10065</td>\n",
              "      <td>1161</td>\n",
              "    </tr>\n",
              "    <tr>\n",
              "      <th>4</th>\n",
              "      <td>2010-10-06</td>\n",
              "      <td>9691</td>\n",
              "      <td>248</td>\n",
              "      <td>971</td>\n",
              "      <td>10285</td>\n",
              "      <td>1160</td>\n",
              "    </tr>\n",
              "  </tbody>\n",
              "</table>\n",
              "</div>"
            ],
            "text/plain": [
              "   Unnamed: 0         NII@NI225   IKS200   IKQ150        A132030  SPI@SPX\n",
              "0  2010-10-01  NIKKEI 225 INDEX  코스피 200  코스닥 150  KODEX 골드선물(H)  S&P 500\n",
              "1  2010-10-01             9404      243      968           9995     1146 \n",
              "2  2010-10-04             9381      244      964          10065     1137 \n",
              "3  2010-10-05             9519      244      964          10065     1161 \n",
              "4  2010-10-06             9691      248      971          10285     1160 "
            ]
          },
          "metadata": {
            "tags": []
          },
          "execution_count": 3
        }
      ]
    },
    {
      "cell_type": "code",
      "metadata": {
        "id": "BWLkZNQ0dJFX",
        "colab": {
          "base_uri": "https://localhost:8080/",
          "height": 52
        },
        "outputId": "ed97e1ac-f7ba-4392-8ef4-efee25faf9a6"
      },
      "source": [
        "asset_names = data.loc[0].tolist()\n",
        "del asset_names[0]\n",
        "print(len(asset_names))\n",
        "print(asset_names)"
      ],
      "execution_count": null,
      "outputs": [
        {
          "output_type": "stream",
          "text": [
            "5\n",
            "['NIKKEI 225 INDEX', '코스피 200', '코스닥 150', 'KODEX 골드선물(H)', 'S&P 500']\n"
          ],
          "name": "stdout"
        }
      ]
    },
    {
      "cell_type": "code",
      "metadata": {
        "id": "2zzPSSxyvZHt",
        "colab": {
          "base_uri": "https://localhost:8080/",
          "height": 197
        },
        "outputId": "ceac2117-f260-4240-bb87-e47fb3aced89"
      },
      "source": [
        "data = data.drop(0,0)\n",
        "data.head()"
      ],
      "execution_count": null,
      "outputs": [
        {
          "output_type": "execute_result",
          "data": {
            "text/html": [
              "<div>\n",
              "<style scoped>\n",
              "    .dataframe tbody tr th:only-of-type {\n",
              "        vertical-align: middle;\n",
              "    }\n",
              "\n",
              "    .dataframe tbody tr th {\n",
              "        vertical-align: top;\n",
              "    }\n",
              "\n",
              "    .dataframe thead th {\n",
              "        text-align: right;\n",
              "    }\n",
              "</style>\n",
              "<table border=\"1\" class=\"dataframe\">\n",
              "  <thead>\n",
              "    <tr style=\"text-align: right;\">\n",
              "      <th></th>\n",
              "      <th>Unnamed: 0</th>\n",
              "      <th>NII@NI225</th>\n",
              "      <th>IKS200</th>\n",
              "      <th>IKQ150</th>\n",
              "      <th>A132030</th>\n",
              "      <th>SPI@SPX</th>\n",
              "    </tr>\n",
              "  </thead>\n",
              "  <tbody>\n",
              "    <tr>\n",
              "      <th>1</th>\n",
              "      <td>2010-10-01</td>\n",
              "      <td>9404</td>\n",
              "      <td>243</td>\n",
              "      <td>968</td>\n",
              "      <td>9995</td>\n",
              "      <td>1146</td>\n",
              "    </tr>\n",
              "    <tr>\n",
              "      <th>2</th>\n",
              "      <td>2010-10-04</td>\n",
              "      <td>9381</td>\n",
              "      <td>244</td>\n",
              "      <td>964</td>\n",
              "      <td>10065</td>\n",
              "      <td>1137</td>\n",
              "    </tr>\n",
              "    <tr>\n",
              "      <th>3</th>\n",
              "      <td>2010-10-05</td>\n",
              "      <td>9519</td>\n",
              "      <td>244</td>\n",
              "      <td>964</td>\n",
              "      <td>10065</td>\n",
              "      <td>1161</td>\n",
              "    </tr>\n",
              "    <tr>\n",
              "      <th>4</th>\n",
              "      <td>2010-10-06</td>\n",
              "      <td>9691</td>\n",
              "      <td>248</td>\n",
              "      <td>971</td>\n",
              "      <td>10285</td>\n",
              "      <td>1160</td>\n",
              "    </tr>\n",
              "    <tr>\n",
              "      <th>5</th>\n",
              "      <td>2010-10-07</td>\n",
              "      <td>9685</td>\n",
              "      <td>247</td>\n",
              "      <td>967</td>\n",
              "      <td>10335</td>\n",
              "      <td>1158</td>\n",
              "    </tr>\n",
              "  </tbody>\n",
              "</table>\n",
              "</div>"
            ],
            "text/plain": [
              "   Unnamed: 0 NII@NI225 IKS200 IKQ150 A132030 SPI@SPX\n",
              "1  2010-10-01     9404    243    968    9995    1146 \n",
              "2  2010-10-04     9381    244    964   10065    1137 \n",
              "3  2010-10-05     9519    244    964   10065    1161 \n",
              "4  2010-10-06     9691    248    971   10285    1160 \n",
              "5  2010-10-07     9685    247    967   10335    1158 "
            ]
          },
          "metadata": {
            "tags": []
          },
          "execution_count": 221
        }
      ]
    },
    {
      "cell_type": "code",
      "metadata": {
        "id": "d1TfRH4-wcO1",
        "colab": {
          "base_uri": "https://localhost:8080/",
          "height": 197
        },
        "outputId": "66c00778-e8ab-417c-fc94-3820b1dc3c3b"
      },
      "source": [
        "data.rename(columns={data.columns[0]:\"Date\"},inplace=True)\n",
        "data.head()"
      ],
      "execution_count": null,
      "outputs": [
        {
          "output_type": "execute_result",
          "data": {
            "text/html": [
              "<div>\n",
              "<style scoped>\n",
              "    .dataframe tbody tr th:only-of-type {\n",
              "        vertical-align: middle;\n",
              "    }\n",
              "\n",
              "    .dataframe tbody tr th {\n",
              "        vertical-align: top;\n",
              "    }\n",
              "\n",
              "    .dataframe thead th {\n",
              "        text-align: right;\n",
              "    }\n",
              "</style>\n",
              "<table border=\"1\" class=\"dataframe\">\n",
              "  <thead>\n",
              "    <tr style=\"text-align: right;\">\n",
              "      <th></th>\n",
              "      <th>Date</th>\n",
              "      <th>NII@NI225</th>\n",
              "      <th>IKS200</th>\n",
              "      <th>IKQ150</th>\n",
              "      <th>A132030</th>\n",
              "      <th>SPI@SPX</th>\n",
              "    </tr>\n",
              "  </thead>\n",
              "  <tbody>\n",
              "    <tr>\n",
              "      <th>1</th>\n",
              "      <td>2010-10-01</td>\n",
              "      <td>9404</td>\n",
              "      <td>243</td>\n",
              "      <td>968</td>\n",
              "      <td>9995</td>\n",
              "      <td>1146</td>\n",
              "    </tr>\n",
              "    <tr>\n",
              "      <th>2</th>\n",
              "      <td>2010-10-04</td>\n",
              "      <td>9381</td>\n",
              "      <td>244</td>\n",
              "      <td>964</td>\n",
              "      <td>10065</td>\n",
              "      <td>1137</td>\n",
              "    </tr>\n",
              "    <tr>\n",
              "      <th>3</th>\n",
              "      <td>2010-10-05</td>\n",
              "      <td>9519</td>\n",
              "      <td>244</td>\n",
              "      <td>964</td>\n",
              "      <td>10065</td>\n",
              "      <td>1161</td>\n",
              "    </tr>\n",
              "    <tr>\n",
              "      <th>4</th>\n",
              "      <td>2010-10-06</td>\n",
              "      <td>9691</td>\n",
              "      <td>248</td>\n",
              "      <td>971</td>\n",
              "      <td>10285</td>\n",
              "      <td>1160</td>\n",
              "    </tr>\n",
              "    <tr>\n",
              "      <th>5</th>\n",
              "      <td>2010-10-07</td>\n",
              "      <td>9685</td>\n",
              "      <td>247</td>\n",
              "      <td>967</td>\n",
              "      <td>10335</td>\n",
              "      <td>1158</td>\n",
              "    </tr>\n",
              "  </tbody>\n",
              "</table>\n",
              "</div>"
            ],
            "text/plain": [
              "         Date NII@NI225 IKS200 IKQ150 A132030 SPI@SPX\n",
              "1  2010-10-01     9404    243    968    9995    1146 \n",
              "2  2010-10-04     9381    244    964   10065    1137 \n",
              "3  2010-10-05     9519    244    964   10065    1161 \n",
              "4  2010-10-06     9691    248    971   10285    1160 \n",
              "5  2010-10-07     9685    247    967   10335    1158 "
            ]
          },
          "metadata": {
            "tags": []
          },
          "execution_count": 222
        }
      ]
    },
    {
      "cell_type": "code",
      "metadata": {
        "id": "eAXaY0PYysAd",
        "colab": {
          "base_uri": "https://localhost:8080/",
          "height": 436
        },
        "outputId": "c845b6c6-0ebe-44b0-d4c4-d3dfee3b6ecd"
      },
      "source": [
        "data.set_index('Date')"
      ],
      "execution_count": null,
      "outputs": [
        {
          "output_type": "execute_result",
          "data": {
            "text/html": [
              "<div>\n",
              "<style scoped>\n",
              "    .dataframe tbody tr th:only-of-type {\n",
              "        vertical-align: middle;\n",
              "    }\n",
              "\n",
              "    .dataframe tbody tr th {\n",
              "        vertical-align: top;\n",
              "    }\n",
              "\n",
              "    .dataframe thead th {\n",
              "        text-align: right;\n",
              "    }\n",
              "</style>\n",
              "<table border=\"1\" class=\"dataframe\">\n",
              "  <thead>\n",
              "    <tr style=\"text-align: right;\">\n",
              "      <th></th>\n",
              "      <th>NII@NI225</th>\n",
              "      <th>IKS200</th>\n",
              "      <th>IKQ150</th>\n",
              "      <th>A132030</th>\n",
              "      <th>SPI@SPX</th>\n",
              "    </tr>\n",
              "    <tr>\n",
              "      <th>Date</th>\n",
              "      <th></th>\n",
              "      <th></th>\n",
              "      <th></th>\n",
              "      <th></th>\n",
              "      <th></th>\n",
              "    </tr>\n",
              "  </thead>\n",
              "  <tbody>\n",
              "    <tr>\n",
              "      <th>2010-10-01</th>\n",
              "      <td>9404</td>\n",
              "      <td>243</td>\n",
              "      <td>968</td>\n",
              "      <td>9995</td>\n",
              "      <td>1146</td>\n",
              "    </tr>\n",
              "    <tr>\n",
              "      <th>2010-10-04</th>\n",
              "      <td>9381</td>\n",
              "      <td>244</td>\n",
              "      <td>964</td>\n",
              "      <td>10065</td>\n",
              "      <td>1137</td>\n",
              "    </tr>\n",
              "    <tr>\n",
              "      <th>2010-10-05</th>\n",
              "      <td>9519</td>\n",
              "      <td>244</td>\n",
              "      <td>964</td>\n",
              "      <td>10065</td>\n",
              "      <td>1161</td>\n",
              "    </tr>\n",
              "    <tr>\n",
              "      <th>2010-10-06</th>\n",
              "      <td>9691</td>\n",
              "      <td>248</td>\n",
              "      <td>971</td>\n",
              "      <td>10285</td>\n",
              "      <td>1160</td>\n",
              "    </tr>\n",
              "    <tr>\n",
              "      <th>2010-10-07</th>\n",
              "      <td>9685</td>\n",
              "      <td>247</td>\n",
              "      <td>967</td>\n",
              "      <td>10335</td>\n",
              "      <td>1158</td>\n",
              "    </tr>\n",
              "    <tr>\n",
              "      <th>...</th>\n",
              "      <td>...</td>\n",
              "      <td>...</td>\n",
              "      <td>...</td>\n",
              "      <td>...</td>\n",
              "      <td>...</td>\n",
              "    </tr>\n",
              "    <tr>\n",
              "      <th>2020-05-21</th>\n",
              "      <td>20552</td>\n",
              "      <td>264</td>\n",
              "      <td>1093</td>\n",
              "      <td>12300</td>\n",
              "      <td>2949</td>\n",
              "    </tr>\n",
              "    <tr>\n",
              "      <th>2020-05-22</th>\n",
              "      <td>20388</td>\n",
              "      <td>260</td>\n",
              "      <td>1080</td>\n",
              "      <td>12260</td>\n",
              "      <td>2955</td>\n",
              "    </tr>\n",
              "    <tr>\n",
              "      <th>2020-05-25</th>\n",
              "      <td>20742</td>\n",
              "      <td>263</td>\n",
              "      <td>1096</td>\n",
              "      <td>12240</td>\n",
              "      <td>2992</td>\n",
              "    </tr>\n",
              "    <tr>\n",
              "      <th>2020-05-26</th>\n",
              "      <td>21271</td>\n",
              "      <td>267</td>\n",
              "      <td>1111</td>\n",
              "      <td>12275</td>\n",
              "      <td>2992</td>\n",
              "    </tr>\n",
              "    <tr>\n",
              "      <th>2020-05-27</th>\n",
              "      <td>21419</td>\n",
              "      <td>268</td>\n",
              "      <td>1103</td>\n",
              "      <td>12055</td>\n",
              "      <td>3036</td>\n",
              "    </tr>\n",
              "  </tbody>\n",
              "</table>\n",
              "<p>2379 rows × 5 columns</p>\n",
              "</div>"
            ],
            "text/plain": [
              "           NII@NI225 IKS200 IKQ150 A132030 SPI@SPX\n",
              "Date                                              \n",
              "2010-10-01     9404    243    968    9995    1146 \n",
              "2010-10-04     9381    244    964   10065    1137 \n",
              "2010-10-05     9519    244    964   10065    1161 \n",
              "2010-10-06     9691    248    971   10285    1160 \n",
              "2010-10-07     9685    247    967   10335    1158 \n",
              "...              ...    ...    ...     ...     ...\n",
              "2020-05-21    20552    264   1093   12300    2949 \n",
              "2020-05-22    20388    260   1080   12260    2955 \n",
              "2020-05-25    20742    263   1096   12240    2992 \n",
              "2020-05-26    21271    267   1111   12275    2992 \n",
              "2020-05-27    21419    268   1103   12055    3036 \n",
              "\n",
              "[2379 rows x 5 columns]"
            ]
          },
          "metadata": {
            "tags": []
          },
          "execution_count": 223
        }
      ]
    },
    {
      "cell_type": "code",
      "metadata": {
        "id": "38u7o5vmxfaQ",
        "colab": {
          "base_uri": "https://localhost:8080/",
          "height": 34
        },
        "outputId": "ced50a88-87e0-4c60-f9aa-c9f791559c71"
      },
      "source": [
        "asset_ID = []\n",
        "for i in range(len(data.columns)) :\n",
        "  asset_ID.append(data.columns[i])\n",
        "del asset_ID[0]\n",
        "print(asset_ID)\n",
        "#asset_ID[0]= 'period'"
      ],
      "execution_count": null,
      "outputs": [
        {
          "output_type": "stream",
          "text": [
            "['NII@NI225', 'IKS200', 'IKQ150', 'A132030', 'SPI@SPX']\n"
          ],
          "name": "stdout"
        }
      ]
    },
    {
      "cell_type": "markdown",
      "metadata": {
        "id": "PB3mOd22-wxD"
      },
      "source": [
        "#수익률 table"
      ]
    },
    {
      "cell_type": "code",
      "metadata": {
        "id": "CwAGFQyf1BbS",
        "colab": {
          "base_uri": "https://localhost:8080/",
          "height": 47
        },
        "outputId": "bc43334d-15a3-4f76-d82d-250b49e0243e"
      },
      "source": [
        "## make data frame\n",
        "columns = ['period_buy','period_sell']+ asset_ID\n",
        "data_temp = pd.DataFrame(columns=[columns])\n",
        "#data_temp.reindex(data_temp.columns.tolist()+[asset_ID])\n",
        "data_temp.head()"
      ],
      "execution_count": null,
      "outputs": [
        {
          "output_type": "execute_result",
          "data": {
            "text/html": [
              "<div>\n",
              "<style scoped>\n",
              "    .dataframe tbody tr th:only-of-type {\n",
              "        vertical-align: middle;\n",
              "    }\n",
              "\n",
              "    .dataframe tbody tr th {\n",
              "        vertical-align: top;\n",
              "    }\n",
              "\n",
              "    .dataframe thead tr th {\n",
              "        text-align: left;\n",
              "    }\n",
              "</style>\n",
              "<table border=\"1\" class=\"dataframe\">\n",
              "  <thead>\n",
              "    <tr>\n",
              "      <th></th>\n",
              "      <th>period_buy</th>\n",
              "      <th>period_sell</th>\n",
              "      <th>NII@NI225</th>\n",
              "      <th>IKS200</th>\n",
              "      <th>IKQ150</th>\n",
              "      <th>A132030</th>\n",
              "      <th>SPI@SPX</th>\n",
              "    </tr>\n",
              "  </thead>\n",
              "  <tbody>\n",
              "  </tbody>\n",
              "</table>\n",
              "</div>"
            ],
            "text/plain": [
              "Empty DataFrame\n",
              "Columns: [(period_buy,), (period_sell,), (NII@NI225,), (IKS200,), (IKQ150,), (A132030,), (SPI@SPX,)]\n",
              "Index: []"
            ]
          },
          "metadata": {
            "tags": []
          },
          "execution_count": 226
        }
      ]
    },
    {
      "cell_type": "code",
      "metadata": {
        "id": "vVOKDR6G74Hy"
      },
      "source": [
        "#del asset_ID[0]\n",
        "\n",
        "test_period = 200\n",
        "for i in range(len(data)-test_period):\n",
        "  for id in asset_ID:\n",
        "    st = float(data.iloc[i].loc[id])\n",
        "    end = float(data.iloc[i+test_period].loc[id])\n",
        "    profit = ((end-st)/st)*100\n",
        "    data_temp.loc[i,'period_buy'] = data.iloc[i,0]\n",
        "    data_temp.loc[i,'period_sell'] = data.iloc[i+test_period,0]\n",
        "    data_temp.iloc[i].loc[id] = profit\n"
      ],
      "execution_count": null,
      "outputs": []
    },
    {
      "cell_type": "code",
      "metadata": {
        "id": "QtHWk6ZdO3-F",
        "colab": {
          "base_uri": "https://localhost:8080/",
          "height": 197
        },
        "outputId": "7240325e-0dea-4fa6-aa97-4a01fc441959"
      },
      "source": [
        "data_temp.head()"
      ],
      "execution_count": null,
      "outputs": [
        {
          "output_type": "execute_result",
          "data": {
            "text/html": [
              "<div>\n",
              "<style scoped>\n",
              "    .dataframe tbody tr th:only-of-type {\n",
              "        vertical-align: middle;\n",
              "    }\n",
              "\n",
              "    .dataframe tbody tr th {\n",
              "        vertical-align: top;\n",
              "    }\n",
              "\n",
              "    .dataframe thead tr th {\n",
              "        text-align: left;\n",
              "    }\n",
              "</style>\n",
              "<table border=\"1\" class=\"dataframe\">\n",
              "  <thead>\n",
              "    <tr>\n",
              "      <th></th>\n",
              "      <th>period_buy</th>\n",
              "      <th>period_sell</th>\n",
              "      <th>NII@NI225</th>\n",
              "      <th>IKS200</th>\n",
              "      <th>IKQ150</th>\n",
              "      <th>A132030</th>\n",
              "      <th>SPI@SPX</th>\n",
              "    </tr>\n",
              "  </thead>\n",
              "  <tbody>\n",
              "    <tr>\n",
              "      <th>0</th>\n",
              "      <td>2010-10-01</td>\n",
              "      <td>2011-07-20</td>\n",
              "      <td>6.40153</td>\n",
              "      <td>15.2263</td>\n",
              "      <td>8.78099</td>\n",
              "      <td>21.5608</td>\n",
              "      <td>15.7068</td>\n",
              "    </tr>\n",
              "    <tr>\n",
              "      <th>1</th>\n",
              "      <td>2010-10-04</td>\n",
              "      <td>2011-07-21</td>\n",
              "      <td>6.70504</td>\n",
              "      <td>14.3443</td>\n",
              "      <td>8.92116</td>\n",
              "      <td>21.4108</td>\n",
              "      <td>18.2058</td>\n",
              "    </tr>\n",
              "    <tr>\n",
              "      <th>2</th>\n",
              "      <td>2010-10-05</td>\n",
              "      <td>2011-07-22</td>\n",
              "      <td>6.43975</td>\n",
              "      <td>15.9836</td>\n",
              "      <td>10.3734</td>\n",
              "      <td>20.5166</td>\n",
              "      <td>15.8484</td>\n",
              "    </tr>\n",
              "    <tr>\n",
              "      <th>3</th>\n",
              "      <td>2010-10-06</td>\n",
              "      <td>2011-07-25</td>\n",
              "      <td>3.70447</td>\n",
              "      <td>12.9032</td>\n",
              "      <td>9.78373</td>\n",
              "      <td>20.0292</td>\n",
              "      <td>15.2586</td>\n",
              "    </tr>\n",
              "    <tr>\n",
              "      <th>4</th>\n",
              "      <td>2010-10-07</td>\n",
              "      <td>2011-07-26</td>\n",
              "      <td>4.26433</td>\n",
              "      <td>14.17</td>\n",
              "      <td>11.4788</td>\n",
              "      <td>19.4969</td>\n",
              "      <td>15.0259</td>\n",
              "    </tr>\n",
              "  </tbody>\n",
              "</table>\n",
              "</div>"
            ],
            "text/plain": [
              "   period_buy period_sell NII@NI225   IKS200   IKQ150  A132030  SPI@SPX\n",
              "0  2010-10-01  2011-07-20   6.40153  15.2263  8.78099  21.5608  15.7068\n",
              "1  2010-10-04  2011-07-21   6.70504  14.3443  8.92116  21.4108  18.2058\n",
              "2  2010-10-05  2011-07-22   6.43975  15.9836  10.3734  20.5166  15.8484\n",
              "3  2010-10-06  2011-07-25   3.70447  12.9032  9.78373  20.0292  15.2586\n",
              "4  2010-10-07  2011-07-26   4.26433    14.17  11.4788  19.4969  15.0259"
            ]
          },
          "metadata": {
            "tags": []
          },
          "execution_count": 228
        }
      ]
    },
    {
      "cell_type": "code",
      "metadata": {
        "id": "58XSvL3UPkr8",
        "colab": {
          "base_uri": "https://localhost:8080/",
          "height": 35
        },
        "outputId": "99b4570d-ec34-469e-8d6b-246dbaa63c02"
      },
      "source": [
        "print(asset_ID)"
      ],
      "execution_count": null,
      "outputs": [
        {
          "output_type": "stream",
          "text": [
            "['A069500', 'A143850', 'A195930', 'A192090', 'A148070', 'A136340', 'A182490', 'A132030', 'A130680']\n"
          ],
          "name": "stdout"
        }
      ]
    },
    {
      "cell_type": "code",
      "metadata": {
        "id": "4KJ3do9dDyBq"
      },
      "source": [
        "data_temp.to_excel('return_252.xlsx') # saving data"
      ],
      "execution_count": null,
      "outputs": []
    },
    {
      "cell_type": "markdown",
      "metadata": {
        "id": "7am8DOr9-8eg"
      },
      "source": [
        "#Backtest"
      ]
    },
    {
      "cell_type": "code",
      "metadata": {
        "id": "qWIEpufoTnmP",
        "colab": {
          "base_uri": "https://localhost:8080/",
          "height": 1000
        },
        "outputId": "e2975b50-a831-4603-89bb-dcb686c81230"
      },
      "source": [
        "date = []\n",
        "total_account_value = []\n",
        "import math\n",
        "asset = 10000000\n",
        "columns = ['date','buy/sell']+asset_ID\n",
        "data_r = pd.DataFrame(columns=[columns])\n",
        "a= 0\n",
        "i = 0\n",
        "rebalance = 15 # 변경 가능\n",
        "li_change = []\n",
        "while i < len(data)-1.5*rebalance :\n",
        "  buy_list = []\n",
        "  buy_date = data.loc[data['Date'] == data_temp.loc[i,'period_sell'].item()].index.item()+1\n",
        "  #print(buy_date)\n",
        "  sell_date = buy_date + rebalance\n",
        "  total = 0\n",
        "  #####buy index0#####\n",
        "  data_r.loc[a,'date'] = data.loc[buy_date,'Date']\n",
        "  data_r.loc[a,'buy/sell'] = 'buy_ratio'\n",
        "  for id in asset_ID:\n",
        "      if float(data_temp.loc[i,id]) > 1.3 : ### 이자율 --> 매수 조건\n",
        "        buy_list.append(id)\n",
        "        #print(buy_list)\n",
        "  for id in buy_list:\n",
        "    total = data_temp.loc[i,id].item()+total\n",
        "  for id in asset_ID:\n",
        "    if id in buy_list:\n",
        "      data_r.loc[a,id] = (data_temp.loc[i,id].item()/total)*100\n",
        "    else :\n",
        "      data_r.loc[a,id] = 0\n",
        "  #####buy index1#####\n",
        "  data_r.loc[a+1,'date'] = data.loc[buy_date,'Date']\n",
        "  data_r.loc[a+1,'buy/sell'] = 'buy_stock_number'\n",
        "  for id in asset_ID:\n",
        "    if id in buy_list:\n",
        "      data_r.loc[a+1,id] =math.floor(((data_temp.loc[i,id].item()/total)*asset)/float(data.loc[buy_date,id]))##1000만원 기준\n",
        "    else :\n",
        "      data_r.loc[a+1,id] = 0\n",
        "    #####buy index2#####\n",
        "  data_r.loc[a+2,'date'] = data.loc[buy_date,'Date']\n",
        "  data_r.loc[a+2,'buy/sell'] = 'buy_asset_value'\n",
        "  asset_total = 0\n",
        "  for id in asset_ID:\n",
        "    if id in buy_list:\n",
        "      data_r.loc[a+2,id] = data_r.loc[a+1,id].item()*float(data.loc[buy_date,id])\n",
        "      asset_total = data_r.loc[a+2,id].item() + asset_total\n",
        "    else :\n",
        "      data_r.loc[a+2,id] = 0\n",
        "  data_r.loc[a+2,'total_asset_value'] = asset_total\n",
        "  data_r.loc[a+2,'left'] = asset - asset_total\n",
        "  data_r.loc[a+2,'total'] = asset_total + data_r.loc[a+2,'left'].item()\n",
        "  ####sell index3#####\n",
        "  data_r.loc[a+3,'date'] = data.loc[sell_date,'Date']\n",
        "  data_r.loc[a+3,'buy/sell'] = 'sell_asset_value'\n",
        "  asset_total =  0\n",
        "  for id in asset_ID:\n",
        "    if id in buy_list:\n",
        "      data_r.loc[a+3,id] = data_r.loc[a+1,id].item()*float(data.loc[sell_date,id])\n",
        "      asset_total = data_r.loc[a+3,id].item() + asset_total\n",
        "    else :\n",
        "      data_r.loc[a+3,id] = 0\n",
        "  data_r.loc[a+3,'total_asset_value'] = asset_total\n",
        "  data_r.loc[a+3,'total'] = data_r.loc[a+3,'total_asset_value'].item() + data_r.loc[a+2,'left'].item()\n",
        "  asset = data_r.loc[a+3,'total'].item()\n",
        "  #####sell index4#####\n",
        "  data_r.loc[a+4,'date'] = data.loc[sell_date,'Date']\n",
        "  data_r.loc[a+4,'buy/sell'] = 'profit'\n",
        "  asset_total =  0\n",
        "  for id in asset_ID:\n",
        "    if id in buy_list:\n",
        "      data_r.loc[a+4,id] = data_r.loc[a+3,id].item()-data_r.loc[a+2,id].item()\n",
        "    else :\n",
        "      data_r.loc[a+4,id] = 0\n",
        "  data_r.loc[a+4,'total_asset_value'] = data_r.loc[a+3,'total_asset_value']-data_r.loc[a+2,'total_asset_value']\n",
        "  data_r.loc[a+4,'total'] = round(((data_r.loc[a+3,'total'].item()-data_r.loc[a+2,'total'].item())/data_r.loc[a+2,'total'].item())*100,2)\n",
        "  print(i,data_r.loc[a+1,'date'].item(),data_r.loc[a+4,'total'].item(),asset)\n",
        "   \n",
        "  li_change.append(data_r.loc[a+4,'total'].item())\n",
        "  a = a + 5\n",
        "  i = i + rebalance\n",
        "data_r.head()"
      ],
      "execution_count": null,
      "outputs": [
        {
          "output_type": "stream",
          "text": [
            "0 2011-10-05 6.17 10617355.0\n",
            "15 2011-10-26 2.22 10852805.0\n",
            "30 2011-11-16 -1.48 10692342.0\n",
            "45 2011-12-07 -7.04 9939484.0\n",
            "60 2011-12-28 4.53 10389384.0\n",
            "75 2012-01-19 3.74 10777934.0\n",
            "90 2012-02-13 -1.08 10661979.0\n",
            "105 2012-03-06 -0.24 10635869.0\n",
            "120 2012-03-27 -2.73 10345145.0\n",
            "135 2012-04-18 -2.62 10073782.0\n",
            "150 2012-05-10 -2.57 9814537.0\n",
            "165 2012-06-01 1.3 9942102.0\n",
            "180 2012-06-25 2.38 10178372.0\n",
            "195 2012-07-16 2.95 10479052.0\n",
            "210 2012-08-06 1.08 10591807.0\n",
            "225 2012-08-28 3.55 10967884.0\n",
            "240 2012-09-18 -3.1 10628118.0\n",
            "255 2012-10-11 -1.07 10514508.0\n",
            "270 2012-11-01 -1.17 10391752.0\n",
            "285 2012-11-22 2.14 10614380.0\n",
            "300 2012-12-13 3.27 10961568.0\n",
            "315 2013-01-09 2.85 11273577.0\n",
            "330 2013-01-30 1.07 11394282.0\n",
            "345 2013-02-21 8.68 12383467.0\n",
            "360 2013-03-15 1.21 12533604.0\n",
            "375 2013-04-05 5.79 13259213.0\n",
            "390 2013-04-26 8.34 14364527.0\n",
            "405 2013-05-21 -10.01 12926518.0\n",
            "420 2013-06-12 3.38 13362841.0\n",
            "435 2013-07-03 4.63 13981481.0\n",
            "450 2013-07-24 -2.98 13564858.0\n",
            "465 2013-08-14 -0.95 13436546.0\n",
            "480 2013-09-05 2.86 13820306.0\n",
            "495 2013-10-01 0.7 13916937.0\n",
            "510 2013-10-24 2.23 14226712.0\n",
            "525 2013-11-14 1.29 14410779.0\n",
            "540 2013-12-05 5.4 15189679.0\n",
            "555 2013-12-27 -1.58 14949570.0\n",
            "570 2014-01-21 -5.34 14151432.0\n",
            "585 2014-02-13 3.54 14652485.0\n",
            "600 2014-03-06 -2.58 14274101.0\n",
            "615 2014-03-27 -0.09 14260668.0\n",
            "630 2014-04-17 1.13 14421737.0\n",
            "645 2014-05-13 1.42 14626991.0\n",
            "660 2014-06-03 1.74 14881697.0\n",
            "675 2014-06-26 0.28 14923649.0\n",
            "690 2014-07-17 -1.05 14767339.0\n",
            "705 2014-08-07 2.52 15139374.0\n",
            "720 2014-08-29 1.03 15295059.0\n",
            "735 2014-09-24 -7.22 14190054.0\n",
            "750 2014-10-17 10.42 15669348.0\n",
            "765 2014-11-07 2.62 16079260.0\n",
            "780 2014-11-28 0.21 16113754.0\n",
            "795 2014-12-19 -2.86 15653374.0\n",
            "810 2015-01-14 2.91 16109445.0\n",
            "825 2015-02-04 4.89 16897900.0\n",
            "840 2015-03-02 2.83 17376746.0\n",
            "855 2015-03-23 1.84 17696768.0\n",
            "870 2015-04-13 -2.71 17217523.0\n",
            "885 2015-05-06 5.2 18113304.0\n",
            "900 2015-05-28 -0.18 18080600.0\n",
            "915 2015-06-18 -0.84 17927910.0\n",
            "930 2015-07-09 0.15 17955514.0\n",
            "945 2015-07-30 -7.42 16624029.0\n",
            "960 2015-08-21 -2.03 16287367.0\n",
            "975 2015-09-11 -0.0 16287031.0\n",
            "990 2015-10-06 1.86 16589736.0\n",
            "1005 2015-10-28 1.4 16822236.0\n",
            "1020 2015-11-18 -1.6 16553704.0\n",
            "1035 2015-12-09 0.26 16597315.0\n",
            "1050 2016-01-04 1.63 16867375.0\n",
            "1065 2016-01-25 -9.19 15317775.0\n",
            "1080 2016-02-18 6.61 16330975.0\n",
            "1095 2016-03-11 -1.85 16028079.0\n",
            "1110 2016-04-01 -0.17 16000229.0\n",
            "1125 2016-04-25 2.78 16444899.0\n",
            "1140 2016-05-18 -1.02 16277099.0\n",
            "1155 2016-06-09 4.38 16990249.0\n",
            "1170 2016-06-30 -0.05 16981859.0\n",
            "1185 2016-07-21 1.59 17252360.0\n",
            "1200 2016-08-11 -1.87 16930412.0\n",
            "1215 2016-09-02 0.6 17031390.0\n",
            "1230 2016-09-28 -2.53 16601235.0\n",
            "1245 2016-10-20 0.66 16711493.0\n",
            "1260 2016-11-10 -7.34 15484964.0\n",
            "1275 2016-12-01 -0.85 15354004.0\n",
            "1290 2016-12-22 1.82 15633968.0\n",
            "1305 2017-01-13 0.57 15722688.0\n",
            "1320 2017-02-07 1.63 15979400.0\n",
            "1335 2017-02-28 0.8 16107823.0\n",
            "1350 2017-03-22 -1.74 15826839.0\n",
            "1365 2017-04-12 6.07 16788241.0\n",
            "1380 2017-05-08 0.27 16833829.0\n",
            "1395 2017-05-30 1.38 17066146.0\n",
            "1410 2017-06-21 0.73 17190756.0\n",
            "1425 2017-07-12 0.75 17319448.0\n",
            "1440 2017-08-02 -2.52 16882908.0\n",
            "1455 2017-08-24 1.65 17161724.0\n",
            "1470 2017-09-14 4.64 17958761.0\n",
            "1485 2017-10-13 4.69 18801805.0\n",
            "1500 2017-11-03 3.55 19469878.0\n",
            "1515 2017-11-24 -2.68 18948691.0\n",
            "1530 2017-12-15 7.45 20360817.0\n",
            "1545 2018-01-10 4.88 21353537.0\n",
            "1560 2018-01-31 -4.89 20309188.0\n",
            "1575 2018-02-23 0.28 20367048.0\n",
            "1590 2018-03-19 -1.23 20117220.0\n",
            "1605 2018-04-09 -2.1 19693936.0\n",
            "1620 2018-04-30 -0.85 19525796.0\n",
            "1635 2018-05-24 -2.18 19101022.0\n",
            "1650 2018-06-18 -1.23 18866526.0\n",
            "1665 2018-07-09 -5.89 17756109.0\n",
            "1680 2018-07-30 2.54 18207377.0\n",
            "1695 2018-08-21 3.32 18812482.0\n",
            "1710 2018-09-11 -2.28 18383336.0\n",
            "1725 2018-10-08 -9.48 16641504.0\n",
            "1740 2018-10-30 -1.53 16387222.0\n",
            "1755 2018-11-20 -0.19 16356212.0\n",
            "1770 2018-12-11 0.0 16356212.0\n",
            "1785 2019-01-04 0.0 16356212.0\n",
            "1800 2019-01-25 0.0 16356212.0\n",
            "1815 2019-02-20 0.83 16491268.0\n",
            "1830 2019-03-14 2.53 16908180.0\n",
            "1845 2019-04-04 1.97 17241893.0\n",
            "1860 2019-04-25 -3.19 16692111.0\n",
            "1875 2019-05-20 1.62 16962453.0\n",
            "1890 2019-06-11 3.01 17473752.0\n",
            "1905 2019-07-02 1.43 17723263.0\n",
            "1920 2019-07-23 3.74 18385758.0\n",
            "1935 2019-08-13 0.79 18531408.0\n",
            "1950 2019-09-04 -2.31 18104028.0\n",
            "1965 2019-09-27 -1.17 17891800.0\n",
            "1980 2019-10-22 -0.6 17783828.0\n",
            "1995 2019-11-12 -0.13 17760870.0\n",
            "2010 2019-12-03 3.1 18311508.0\n",
            "2025 2019-12-24 3.09 18877081.0\n",
            "2040 2020-01-17 0.06 18888527.0\n",
            "2055 2020-02-11 -7.26 17516497.0\n",
            "2070 2020-03-03 -7.38 16223387.0\n",
            "2085 2020-03-24 10.47 17921407.0\n",
            "2100 2020-04-14 -3.29 17331417.0\n"
          ],
          "name": "stdout"
        },
        {
          "output_type": "error",
          "ename": "KeyError",
          "evalue": "ignored",
          "traceback": [
            "\u001b[0;31m---------------------------------------------------------------------------\u001b[0m",
            "\u001b[0;31mKeyError\u001b[0m                                  Traceback (most recent call last)",
            "\u001b[0;32m/usr/local/lib/python3.6/dist-packages/pandas/core/indexes/base.py\u001b[0m in \u001b[0;36mget_loc\u001b[0;34m(self, key, method, tolerance)\u001b[0m\n\u001b[1;32m   2645\u001b[0m             \u001b[0;32mtry\u001b[0m\u001b[0;34m:\u001b[0m\u001b[0;34m\u001b[0m\u001b[0;34m\u001b[0m\u001b[0m\n\u001b[0;32m-> 2646\u001b[0;31m                 \u001b[0;32mreturn\u001b[0m \u001b[0mself\u001b[0m\u001b[0;34m.\u001b[0m\u001b[0m_engine\u001b[0m\u001b[0;34m.\u001b[0m\u001b[0mget_loc\u001b[0m\u001b[0;34m(\u001b[0m\u001b[0mkey\u001b[0m\u001b[0;34m)\u001b[0m\u001b[0;34m\u001b[0m\u001b[0;34m\u001b[0m\u001b[0m\n\u001b[0m\u001b[1;32m   2647\u001b[0m             \u001b[0;32mexcept\u001b[0m \u001b[0mKeyError\u001b[0m\u001b[0;34m:\u001b[0m\u001b[0;34m\u001b[0m\u001b[0;34m\u001b[0m\u001b[0m\n",
            "\u001b[0;32mpandas/_libs/index.pyx\u001b[0m in \u001b[0;36mpandas._libs.index.IndexEngine.get_loc\u001b[0;34m()\u001b[0m\n",
            "\u001b[0;32mpandas/_libs/index.pyx\u001b[0m in \u001b[0;36mpandas._libs.index.IndexEngine.get_loc\u001b[0;34m()\u001b[0m\n",
            "\u001b[0;32mpandas/_libs/hashtable_class_helper.pxi\u001b[0m in \u001b[0;36mpandas._libs.hashtable.Int64HashTable.get_item\u001b[0;34m()\u001b[0m\n",
            "\u001b[0;32mpandas/_libs/hashtable_class_helper.pxi\u001b[0m in \u001b[0;36mpandas._libs.hashtable.Int64HashTable.get_item\u001b[0;34m()\u001b[0m\n",
            "\u001b[0;31mKeyError\u001b[0m: 2382",
            "\nDuring handling of the above exception, another exception occurred:\n",
            "\u001b[0;31mKeyError\u001b[0m                                  Traceback (most recent call last)",
            "\u001b[0;32m<ipython-input-201-e0b0def9c770>\u001b[0m in \u001b[0;36m<module>\u001b[0;34m()\u001b[0m\n\u001b[1;32m     51\u001b[0m   \u001b[0mdata_r\u001b[0m\u001b[0;34m.\u001b[0m\u001b[0mloc\u001b[0m\u001b[0;34m[\u001b[0m\u001b[0ma\u001b[0m\u001b[0;34m+\u001b[0m\u001b[0;36m2\u001b[0m\u001b[0;34m,\u001b[0m\u001b[0;34m'total'\u001b[0m\u001b[0;34m]\u001b[0m \u001b[0;34m=\u001b[0m \u001b[0masset_total\u001b[0m \u001b[0;34m+\u001b[0m \u001b[0mdata_r\u001b[0m\u001b[0;34m.\u001b[0m\u001b[0mloc\u001b[0m\u001b[0;34m[\u001b[0m\u001b[0ma\u001b[0m\u001b[0;34m+\u001b[0m\u001b[0;36m2\u001b[0m\u001b[0;34m,\u001b[0m\u001b[0;34m'left'\u001b[0m\u001b[0;34m]\u001b[0m\u001b[0;34m.\u001b[0m\u001b[0mitem\u001b[0m\u001b[0;34m(\u001b[0m\u001b[0;34m)\u001b[0m\u001b[0;34m\u001b[0m\u001b[0;34m\u001b[0m\u001b[0m\n\u001b[1;32m     52\u001b[0m   \u001b[0;31m####sell index3#####\u001b[0m\u001b[0;34m\u001b[0m\u001b[0;34m\u001b[0m\u001b[0;34m\u001b[0m\u001b[0m\n\u001b[0;32m---> 53\u001b[0;31m   \u001b[0mdata_r\u001b[0m\u001b[0;34m.\u001b[0m\u001b[0mloc\u001b[0m\u001b[0;34m[\u001b[0m\u001b[0ma\u001b[0m\u001b[0;34m+\u001b[0m\u001b[0;36m3\u001b[0m\u001b[0;34m,\u001b[0m\u001b[0;34m'date'\u001b[0m\u001b[0;34m]\u001b[0m \u001b[0;34m=\u001b[0m \u001b[0mdata\u001b[0m\u001b[0;34m.\u001b[0m\u001b[0mloc\u001b[0m\u001b[0;34m[\u001b[0m\u001b[0msell_date\u001b[0m\u001b[0;34m,\u001b[0m\u001b[0;34m'Date'\u001b[0m\u001b[0;34m]\u001b[0m\u001b[0;34m\u001b[0m\u001b[0;34m\u001b[0m\u001b[0m\n\u001b[0m\u001b[1;32m     54\u001b[0m   \u001b[0mdata_r\u001b[0m\u001b[0;34m.\u001b[0m\u001b[0mloc\u001b[0m\u001b[0;34m[\u001b[0m\u001b[0ma\u001b[0m\u001b[0;34m+\u001b[0m\u001b[0;36m3\u001b[0m\u001b[0;34m,\u001b[0m\u001b[0;34m'buy/sell'\u001b[0m\u001b[0;34m]\u001b[0m \u001b[0;34m=\u001b[0m \u001b[0;34m'sell_asset_value'\u001b[0m\u001b[0;34m\u001b[0m\u001b[0;34m\u001b[0m\u001b[0m\n\u001b[1;32m     55\u001b[0m   \u001b[0masset_total\u001b[0m \u001b[0;34m=\u001b[0m  \u001b[0;36m0\u001b[0m\u001b[0;34m\u001b[0m\u001b[0;34m\u001b[0m\u001b[0m\n",
            "\u001b[0;32m/usr/local/lib/python3.6/dist-packages/pandas/core/indexing.py\u001b[0m in \u001b[0;36m__getitem__\u001b[0;34m(self, key)\u001b[0m\n\u001b[1;32m   1760\u001b[0m                 \u001b[0;32mexcept\u001b[0m \u001b[0;34m(\u001b[0m\u001b[0mKeyError\u001b[0m\u001b[0;34m,\u001b[0m \u001b[0mIndexError\u001b[0m\u001b[0;34m,\u001b[0m \u001b[0mAttributeError\u001b[0m\u001b[0;34m)\u001b[0m\u001b[0;34m:\u001b[0m\u001b[0;34m\u001b[0m\u001b[0;34m\u001b[0m\u001b[0m\n\u001b[1;32m   1761\u001b[0m                     \u001b[0;32mpass\u001b[0m\u001b[0;34m\u001b[0m\u001b[0;34m\u001b[0m\u001b[0m\n\u001b[0;32m-> 1762\u001b[0;31m             \u001b[0;32mreturn\u001b[0m \u001b[0mself\u001b[0m\u001b[0;34m.\u001b[0m\u001b[0m_getitem_tuple\u001b[0m\u001b[0;34m(\u001b[0m\u001b[0mkey\u001b[0m\u001b[0;34m)\u001b[0m\u001b[0;34m\u001b[0m\u001b[0;34m\u001b[0m\u001b[0m\n\u001b[0m\u001b[1;32m   1763\u001b[0m         \u001b[0;32melse\u001b[0m\u001b[0;34m:\u001b[0m\u001b[0;34m\u001b[0m\u001b[0;34m\u001b[0m\u001b[0m\n\u001b[1;32m   1764\u001b[0m             \u001b[0;31m# we by definition only have the 0th axis\u001b[0m\u001b[0;34m\u001b[0m\u001b[0;34m\u001b[0m\u001b[0;34m\u001b[0m\u001b[0m\n",
            "\u001b[0;32m/usr/local/lib/python3.6/dist-packages/pandas/core/indexing.py\u001b[0m in \u001b[0;36m_getitem_tuple\u001b[0;34m(self, tup)\u001b[0m\n\u001b[1;32m   1270\u001b[0m     \u001b[0;32mdef\u001b[0m \u001b[0m_getitem_tuple\u001b[0m\u001b[0;34m(\u001b[0m\u001b[0mself\u001b[0m\u001b[0;34m,\u001b[0m \u001b[0mtup\u001b[0m\u001b[0;34m:\u001b[0m \u001b[0mTuple\u001b[0m\u001b[0;34m)\u001b[0m\u001b[0;34m:\u001b[0m\u001b[0;34m\u001b[0m\u001b[0;34m\u001b[0m\u001b[0m\n\u001b[1;32m   1271\u001b[0m         \u001b[0;32mtry\u001b[0m\u001b[0;34m:\u001b[0m\u001b[0;34m\u001b[0m\u001b[0;34m\u001b[0m\u001b[0m\n\u001b[0;32m-> 1272\u001b[0;31m             \u001b[0;32mreturn\u001b[0m \u001b[0mself\u001b[0m\u001b[0;34m.\u001b[0m\u001b[0m_getitem_lowerdim\u001b[0m\u001b[0;34m(\u001b[0m\u001b[0mtup\u001b[0m\u001b[0;34m)\u001b[0m\u001b[0;34m\u001b[0m\u001b[0;34m\u001b[0m\u001b[0m\n\u001b[0m\u001b[1;32m   1273\u001b[0m         \u001b[0;32mexcept\u001b[0m \u001b[0mIndexingError\u001b[0m\u001b[0;34m:\u001b[0m\u001b[0;34m\u001b[0m\u001b[0;34m\u001b[0m\u001b[0m\n\u001b[1;32m   1274\u001b[0m             \u001b[0;32mpass\u001b[0m\u001b[0;34m\u001b[0m\u001b[0;34m\u001b[0m\u001b[0m\n",
            "\u001b[0;32m/usr/local/lib/python3.6/dist-packages/pandas/core/indexing.py\u001b[0m in \u001b[0;36m_getitem_lowerdim\u001b[0;34m(self, tup)\u001b[0m\n\u001b[1;32m   1387\u001b[0m         \u001b[0;32mfor\u001b[0m \u001b[0mi\u001b[0m\u001b[0;34m,\u001b[0m \u001b[0mkey\u001b[0m \u001b[0;32min\u001b[0m \u001b[0menumerate\u001b[0m\u001b[0;34m(\u001b[0m\u001b[0mtup\u001b[0m\u001b[0;34m)\u001b[0m\u001b[0;34m:\u001b[0m\u001b[0;34m\u001b[0m\u001b[0;34m\u001b[0m\u001b[0m\n\u001b[1;32m   1388\u001b[0m             \u001b[0;32mif\u001b[0m \u001b[0mis_label_like\u001b[0m\u001b[0;34m(\u001b[0m\u001b[0mkey\u001b[0m\u001b[0;34m)\u001b[0m \u001b[0;32mor\u001b[0m \u001b[0misinstance\u001b[0m\u001b[0;34m(\u001b[0m\u001b[0mkey\u001b[0m\u001b[0;34m,\u001b[0m \u001b[0mtuple\u001b[0m\u001b[0;34m)\u001b[0m\u001b[0;34m:\u001b[0m\u001b[0;34m\u001b[0m\u001b[0;34m\u001b[0m\u001b[0m\n\u001b[0;32m-> 1389\u001b[0;31m                 \u001b[0msection\u001b[0m \u001b[0;34m=\u001b[0m \u001b[0mself\u001b[0m\u001b[0;34m.\u001b[0m\u001b[0m_getitem_axis\u001b[0m\u001b[0;34m(\u001b[0m\u001b[0mkey\u001b[0m\u001b[0;34m,\u001b[0m \u001b[0maxis\u001b[0m\u001b[0;34m=\u001b[0m\u001b[0mi\u001b[0m\u001b[0;34m)\u001b[0m\u001b[0;34m\u001b[0m\u001b[0;34m\u001b[0m\u001b[0m\n\u001b[0m\u001b[1;32m   1390\u001b[0m \u001b[0;34m\u001b[0m\u001b[0m\n\u001b[1;32m   1391\u001b[0m                 \u001b[0;31m# we have yielded a scalar ?\u001b[0m\u001b[0;34m\u001b[0m\u001b[0;34m\u001b[0m\u001b[0;34m\u001b[0m\u001b[0m\n",
            "\u001b[0;32m/usr/local/lib/python3.6/dist-packages/pandas/core/indexing.py\u001b[0m in \u001b[0;36m_getitem_axis\u001b[0;34m(self, key, axis)\u001b[0m\n\u001b[1;32m   1963\u001b[0m         \u001b[0;31m# fall thru to straight lookup\u001b[0m\u001b[0;34m\u001b[0m\u001b[0;34m\u001b[0m\u001b[0;34m\u001b[0m\u001b[0m\n\u001b[1;32m   1964\u001b[0m         \u001b[0mself\u001b[0m\u001b[0;34m.\u001b[0m\u001b[0m_validate_key\u001b[0m\u001b[0;34m(\u001b[0m\u001b[0mkey\u001b[0m\u001b[0;34m,\u001b[0m \u001b[0maxis\u001b[0m\u001b[0;34m)\u001b[0m\u001b[0;34m\u001b[0m\u001b[0;34m\u001b[0m\u001b[0m\n\u001b[0;32m-> 1965\u001b[0;31m         \u001b[0;32mreturn\u001b[0m \u001b[0mself\u001b[0m\u001b[0;34m.\u001b[0m\u001b[0m_get_label\u001b[0m\u001b[0;34m(\u001b[0m\u001b[0mkey\u001b[0m\u001b[0;34m,\u001b[0m \u001b[0maxis\u001b[0m\u001b[0;34m=\u001b[0m\u001b[0maxis\u001b[0m\u001b[0;34m)\u001b[0m\u001b[0;34m\u001b[0m\u001b[0;34m\u001b[0m\u001b[0m\n\u001b[0m\u001b[1;32m   1966\u001b[0m \u001b[0;34m\u001b[0m\u001b[0m\n\u001b[1;32m   1967\u001b[0m \u001b[0;34m\u001b[0m\u001b[0m\n",
            "\u001b[0;32m/usr/local/lib/python3.6/dist-packages/pandas/core/indexing.py\u001b[0m in \u001b[0;36m_get_label\u001b[0;34m(self, label, axis)\u001b[0m\n\u001b[1;32m    623\u001b[0m             \u001b[0;32mraise\u001b[0m \u001b[0mIndexingError\u001b[0m\u001b[0;34m(\u001b[0m\u001b[0;34m\"no slices here, handle elsewhere\"\u001b[0m\u001b[0;34m)\u001b[0m\u001b[0;34m\u001b[0m\u001b[0;34m\u001b[0m\u001b[0m\n\u001b[1;32m    624\u001b[0m \u001b[0;34m\u001b[0m\u001b[0m\n\u001b[0;32m--> 625\u001b[0;31m         \u001b[0;32mreturn\u001b[0m \u001b[0mself\u001b[0m\u001b[0;34m.\u001b[0m\u001b[0mobj\u001b[0m\u001b[0;34m.\u001b[0m\u001b[0m_xs\u001b[0m\u001b[0;34m(\u001b[0m\u001b[0mlabel\u001b[0m\u001b[0;34m,\u001b[0m \u001b[0maxis\u001b[0m\u001b[0;34m=\u001b[0m\u001b[0maxis\u001b[0m\u001b[0;34m)\u001b[0m\u001b[0;34m\u001b[0m\u001b[0;34m\u001b[0m\u001b[0m\n\u001b[0m\u001b[1;32m    626\u001b[0m \u001b[0;34m\u001b[0m\u001b[0m\n\u001b[1;32m    627\u001b[0m     \u001b[0;32mdef\u001b[0m \u001b[0m_get_loc\u001b[0m\u001b[0;34m(\u001b[0m\u001b[0mself\u001b[0m\u001b[0;34m,\u001b[0m \u001b[0mkey\u001b[0m\u001b[0;34m:\u001b[0m \u001b[0mint\u001b[0m\u001b[0;34m,\u001b[0m \u001b[0maxis\u001b[0m\u001b[0;34m:\u001b[0m \u001b[0mint\u001b[0m\u001b[0;34m)\u001b[0m\u001b[0;34m:\u001b[0m\u001b[0;34m\u001b[0m\u001b[0;34m\u001b[0m\u001b[0m\n",
            "\u001b[0;32m/usr/local/lib/python3.6/dist-packages/pandas/core/generic.py\u001b[0m in \u001b[0;36mxs\u001b[0;34m(self, key, axis, level, drop_level)\u001b[0m\n\u001b[1;32m   3535\u001b[0m             \u001b[0mloc\u001b[0m\u001b[0;34m,\u001b[0m \u001b[0mnew_index\u001b[0m \u001b[0;34m=\u001b[0m \u001b[0mself\u001b[0m\u001b[0;34m.\u001b[0m\u001b[0mindex\u001b[0m\u001b[0;34m.\u001b[0m\u001b[0mget_loc_level\u001b[0m\u001b[0;34m(\u001b[0m\u001b[0mkey\u001b[0m\u001b[0;34m,\u001b[0m \u001b[0mdrop_level\u001b[0m\u001b[0;34m=\u001b[0m\u001b[0mdrop_level\u001b[0m\u001b[0;34m)\u001b[0m\u001b[0;34m\u001b[0m\u001b[0;34m\u001b[0m\u001b[0m\n\u001b[1;32m   3536\u001b[0m         \u001b[0;32melse\u001b[0m\u001b[0;34m:\u001b[0m\u001b[0;34m\u001b[0m\u001b[0;34m\u001b[0m\u001b[0m\n\u001b[0;32m-> 3537\u001b[0;31m             \u001b[0mloc\u001b[0m \u001b[0;34m=\u001b[0m \u001b[0mself\u001b[0m\u001b[0;34m.\u001b[0m\u001b[0mindex\u001b[0m\u001b[0;34m.\u001b[0m\u001b[0mget_loc\u001b[0m\u001b[0;34m(\u001b[0m\u001b[0mkey\u001b[0m\u001b[0;34m)\u001b[0m\u001b[0;34m\u001b[0m\u001b[0;34m\u001b[0m\u001b[0m\n\u001b[0m\u001b[1;32m   3538\u001b[0m \u001b[0;34m\u001b[0m\u001b[0m\n\u001b[1;32m   3539\u001b[0m             \u001b[0;32mif\u001b[0m \u001b[0misinstance\u001b[0m\u001b[0;34m(\u001b[0m\u001b[0mloc\u001b[0m\u001b[0;34m,\u001b[0m \u001b[0mnp\u001b[0m\u001b[0;34m.\u001b[0m\u001b[0mndarray\u001b[0m\u001b[0;34m)\u001b[0m\u001b[0;34m:\u001b[0m\u001b[0;34m\u001b[0m\u001b[0;34m\u001b[0m\u001b[0m\n",
            "\u001b[0;32m/usr/local/lib/python3.6/dist-packages/pandas/core/indexes/base.py\u001b[0m in \u001b[0;36mget_loc\u001b[0;34m(self, key, method, tolerance)\u001b[0m\n\u001b[1;32m   2646\u001b[0m                 \u001b[0;32mreturn\u001b[0m \u001b[0mself\u001b[0m\u001b[0;34m.\u001b[0m\u001b[0m_engine\u001b[0m\u001b[0;34m.\u001b[0m\u001b[0mget_loc\u001b[0m\u001b[0;34m(\u001b[0m\u001b[0mkey\u001b[0m\u001b[0;34m)\u001b[0m\u001b[0;34m\u001b[0m\u001b[0;34m\u001b[0m\u001b[0m\n\u001b[1;32m   2647\u001b[0m             \u001b[0;32mexcept\u001b[0m \u001b[0mKeyError\u001b[0m\u001b[0;34m:\u001b[0m\u001b[0;34m\u001b[0m\u001b[0;34m\u001b[0m\u001b[0m\n\u001b[0;32m-> 2648\u001b[0;31m                 \u001b[0;32mreturn\u001b[0m \u001b[0mself\u001b[0m\u001b[0;34m.\u001b[0m\u001b[0m_engine\u001b[0m\u001b[0;34m.\u001b[0m\u001b[0mget_loc\u001b[0m\u001b[0;34m(\u001b[0m\u001b[0mself\u001b[0m\u001b[0;34m.\u001b[0m\u001b[0m_maybe_cast_indexer\u001b[0m\u001b[0;34m(\u001b[0m\u001b[0mkey\u001b[0m\u001b[0;34m)\u001b[0m\u001b[0;34m)\u001b[0m\u001b[0;34m\u001b[0m\u001b[0;34m\u001b[0m\u001b[0m\n\u001b[0m\u001b[1;32m   2649\u001b[0m         \u001b[0mindexer\u001b[0m \u001b[0;34m=\u001b[0m \u001b[0mself\u001b[0m\u001b[0;34m.\u001b[0m\u001b[0mget_indexer\u001b[0m\u001b[0;34m(\u001b[0m\u001b[0;34m[\u001b[0m\u001b[0mkey\u001b[0m\u001b[0;34m]\u001b[0m\u001b[0;34m,\u001b[0m \u001b[0mmethod\u001b[0m\u001b[0;34m=\u001b[0m\u001b[0mmethod\u001b[0m\u001b[0;34m,\u001b[0m \u001b[0mtolerance\u001b[0m\u001b[0;34m=\u001b[0m\u001b[0mtolerance\u001b[0m\u001b[0;34m)\u001b[0m\u001b[0;34m\u001b[0m\u001b[0;34m\u001b[0m\u001b[0m\n\u001b[1;32m   2650\u001b[0m         \u001b[0;32mif\u001b[0m \u001b[0mindexer\u001b[0m\u001b[0;34m.\u001b[0m\u001b[0mndim\u001b[0m \u001b[0;34m>\u001b[0m \u001b[0;36m1\u001b[0m \u001b[0;32mor\u001b[0m \u001b[0mindexer\u001b[0m\u001b[0;34m.\u001b[0m\u001b[0msize\u001b[0m \u001b[0;34m>\u001b[0m \u001b[0;36m1\u001b[0m\u001b[0;34m:\u001b[0m\u001b[0;34m\u001b[0m\u001b[0;34m\u001b[0m\u001b[0m\n",
            "\u001b[0;32mpandas/_libs/index.pyx\u001b[0m in \u001b[0;36mpandas._libs.index.IndexEngine.get_loc\u001b[0;34m()\u001b[0m\n",
            "\u001b[0;32mpandas/_libs/index.pyx\u001b[0m in \u001b[0;36mpandas._libs.index.IndexEngine.get_loc\u001b[0;34m()\u001b[0m\n",
            "\u001b[0;32mpandas/_libs/hashtable_class_helper.pxi\u001b[0m in \u001b[0;36mpandas._libs.hashtable.Int64HashTable.get_item\u001b[0;34m()\u001b[0m\n",
            "\u001b[0;32mpandas/_libs/hashtable_class_helper.pxi\u001b[0m in \u001b[0;36mpandas._libs.hashtable.Int64HashTable.get_item\u001b[0;34m()\u001b[0m\n",
            "\u001b[0;31mKeyError\u001b[0m: 2382"
          ]
        }
      ]
    },
    {
      "cell_type": "code",
      "metadata": {
        "id": "wJkFZVd_LKqz",
        "colab": {
          "base_uri": "https://localhost:8080/",
          "height": 54
        },
        "outputId": "1784661d-a023-421f-d4d2-0fb07560f885"
      },
      "source": [
        "print(date)\n"
      ],
      "execution_count": null,
      "outputs": [
        {
          "output_type": "stream",
          "text": [
            "['2011-10-28', '2011-11-22', '2011-12-15', '2012-01-10', '2012-02-06', '2012-02-29', '2012-03-26', '2012-04-19', '2012-05-15', '2012-06-11', '2012-07-04', '2012-07-27', '2012-08-22', '2012-09-14', '2012-10-11', '2012-11-05', '2012-11-28', '2012-12-24', '2013-01-21', '2013-02-14', '2013-03-12', '2013-04-04', '2013-04-29', '2013-05-24', '2013-06-19', '2013-07-12', '2013-08-06', '2013-08-30', '2013-09-27', '2013-10-24', '2013-11-18', '2013-12-11', '2014-01-08', '2014-02-04', '2014-02-27', '2014-03-24', '2014-04-16', '2014-05-14', '2014-06-10', '2014-07-03', '2014-07-28', '2014-08-21', '2014-09-18', '2014-10-15', '2014-11-07', '2014-12-02', '2014-12-26', '2015-01-22', '2015-02-16', '2015-03-16', '2015-04-08', '2015-05-04', '2015-05-29', '2015-06-23', '2015-07-16', '2015-08-10', '2015-09-03', '2015-09-30', '2015-10-26', '2015-11-18', '2015-12-11', '2016-01-08', '2016-02-02', '2016-03-02', '2016-03-25', '2016-04-20', '2016-05-17', '2016-06-10', '2016-07-05', '2016-07-28', '2016-08-23', '2016-09-20', '2016-10-14', '2016-11-08', '2016-12-01', '2016-12-26', '2017-01-19', '2017-02-15', '2017-03-13', '2017-04-05', '2017-04-28', '2017-05-29', '2017-06-22', '2017-07-17', '2017-08-09', '2017-09-04', '2017-09-27', '2017-10-30', '2017-11-22', '2017-12-15', '2018-01-12', '2018-02-06', '2018-03-06', '2018-03-29', '2018-04-23', '2018-05-18', '2018-06-15', '2018-07-10', '2018-08-02', '2018-08-28', '2018-09-20', '2018-10-22', '2018-11-14', '2018-12-07', '2019-01-04', '2019-01-29', '2019-02-26', '2019-03-22', '2019-04-16', '2019-05-13', '2019-06-05', '2019-07-01', '2019-07-24', '2019-08-19', '2019-09-11', '2019-10-10', '2019-11-04', '2019-11-27', '2019-12-20', '2020-01-17', '2020-02-13', '2020-03-09', '2020-04-01', '2020-04-27', '2020-05-25']\n"
          ],
          "name": "stdout"
        }
      ]
    },
    {
      "cell_type": "code",
      "metadata": {
        "id": "IcGdASGfNtMl",
        "colab": {
          "base_uri": "https://localhost:8080/",
          "height": 54
        },
        "outputId": "4e05386f-ad1a-4cc7-bd51-4cfe6c8d64be"
      },
      "source": [
        "print(total_account_value)"
      ],
      "execution_count": null,
      "outputs": [
        {
          "output_type": "stream",
          "text": [
            "[10758580.0, 10304783.0, 9573698.0, 9901288.0, 10564458.0, 10868906.0, 10317481.0, 10070351.0, 9634229.0, 9937229.0, 10233398.0, 10270462.0, 10470532.0, 10815764.0, 10474143.0, 10294790.0, 10327933.0, 10743616.0, 11141769.0, 11480350.0, 12235923.0, 12451060.0, 13252609.0, 13801714.0, 12823141.0, 13743740.0, 13730511.0, 12833159.0, 13934371.0, 13831205.0, 14359429.0, 14547177.0, 15052866.0, 13535755.0, 14381242.0, 14140557.0, 14133997.0, 14280704.0, 14759716.0, 15051718.0, 15117664.0, 15124864.0, 15334738.0, 14284400.0, 15739066.0, 16243956.0, 16336542.0, 16258735.0, 16710795.0, 17273387.0, 17677608.0, 17596392.0, 18397609.0, 18862009.0, 19153861.0, 18911479.0, 16872423.0, 16353760.0, 17113052.0, 17405508.0, 16845319.0, 17352840.0, 17793730.0, 16686556.0, 16686556.0, 16818820.0, 17238580.0, 17063680.0, 18130570.0, 18091648.0, 18090959.0, 17811977.0, 17384093.0, 17560994.0, 16627984.0, 16707730.0, 16951120.0, 17293757.0, 17520185.0, 17342355.0, 17643921.0, 18304289.0, 18515993.0, 18734347.0, 18453079.0, 18202382.0, 18806579.0, 19933793.0, 20978279.0, 20497145.0, 22917989.0, 21860050.0, 21787187.0, 21656639.0, 21342638.0, 21072755.0, 21147997.0, 20441655.0, 19577581.0, 20158022.0, 20993436.0, 19537842.0, 18097817.0, 17635724.0, 16959327.0, 16959327.0, 16959327.0, 17021544.0, 17665600.0, 17019277.0, 17104005.0, 17939181.0, 18340941.0, 18741765.0, 18551465.0, 18612358.0, 18664078.0, 18571546.0, 18930045.0, 19549120.0, 19628954.0, 17463934.0, 16450606.0, 17875526.0, 17802826.0]\n"
          ],
          "name": "stdout"
        }
      ]
    },
    {
      "cell_type": "code",
      "metadata": {
        "id": "ywhXaOiM-uRl"
      },
      "source": [
        "data_r.to_excel('buysell_cal400_re13.xlsx') # saving data"
      ],
      "execution_count": null,
      "outputs": []
    },
    {
      "cell_type": "code",
      "metadata": {
        "id": "1_NRbFHVb1u_"
      },
      "source": [
        "data_r.tail(50)"
      ],
      "execution_count": null,
      "outputs": []
    },
    {
      "cell_type": "code",
      "metadata": {
        "id": "GNgy6j4SAzJn",
        "colab": {
          "base_uri": "https://localhost:8080/",
          "height": 72
        },
        "outputId": "5bd7ab8e-38c3-4fec-e0b5-b1e75cb254e9"
      },
      "source": [
        "#portfolio\n",
        "## variance\n",
        "import numpy as np\n",
        "print(li_change)\n",
        "print(np.var(li_change))\n",
        "\n",
        "\n"
      ],
      "execution_count": null,
      "outputs": [
        {
          "output_type": "stream",
          "text": [
            "[7.59, -4.22, -7.09, 3.42, 6.7, 2.88, -5.07, -2.4, -4.33, 3.15, 2.98, 0.36, 1.95, 3.3, -3.16, -1.71, 0.32, 4.02, 3.71, 3.04, 6.58, 1.76, 6.44, 4.14, -7.09, 7.18, -0.1, -6.54, 8.58, -0.74, 3.82, 1.31, 3.48, -10.08, 6.25, -1.67, -0.05, 1.04, 3.35, 1.98, 0.44, 0.05, 1.39, -6.85, 10.18, 3.21, 0.57, -0.48, 2.78, 3.37, 2.34, -0.46, 4.55, 2.52, 1.55, -1.27, -10.78, -3.07, 4.64, 1.71, -3.22, 3.01, 2.54, -6.22, 0.0, 0.79, 2.5, -1.01, 6.25, -0.21, -0.0, -1.54, -2.4, 1.02, -5.31, 0.48, 1.46, 2.02, 1.31, -1.02, 1.74, 3.74, 1.16, 1.18, -1.5, -1.36, 3.32, 5.99, 5.24, -2.29, 11.81, -4.62, -0.33, -0.6, -1.45, -1.26, 0.36, -3.34, -4.23, 2.96, 4.14, -6.93, -7.37, -2.55, -3.84, 0.0, 0.0, 0.37, 3.78, -3.66, 0.5, 4.88, 2.24, 2.19, -1.02, 0.33, 0.28, -0.5, 1.93, 3.27, 0.41, -11.03, -5.8, 8.66, -0.41]\n",
            "16.6725508096\n"
          ],
          "name": "stdout"
        }
      ]
    },
    {
      "cell_type": "code",
      "metadata": {
        "id": "xayZKH9YUxJb"
      },
      "source": [
        ""
      ],
      "execution_count": null,
      "outputs": []
    }
  ]
}